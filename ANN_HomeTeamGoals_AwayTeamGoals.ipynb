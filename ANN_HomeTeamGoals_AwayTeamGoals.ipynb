{
 "cells": [
  {
   "cell_type": "code",
   "execution_count": 1,
   "metadata": {
    "collapsed": true
   },
   "outputs": [],
   "source": [
    "# Importing all the necessary libraries\n",
    "import matplotlib.pyplot as plt\n",
    "import pandas as pd\n",
    "import numpy as np\n",
    "from sklearn.metrics import roc_auc_score"
   ]
  },
  {
   "cell_type": "code",
   "execution_count": 2,
   "metadata": {
    "collapsed": true
   },
   "outputs": [],
   "source": [
    "# Certain commands for using XGB on my pc\n",
    "import os\n",
    "mingw_path = 'C:\\\\Program Files\\\\mingw-w64\\\\x86_64-7.2.0-posix-seh-rt_v5-rev1\\\\mingw64\\\\bin'\n",
    "os.environ['PATH'] = mingw_path + ';' + os.environ['PATH']\n"
   ]
  },
  {
   "cell_type": "code",
   "execution_count": 4,
   "metadata": {
    "collapsed": true
   },
   "outputs": [],
   "source": [
    "%matplotlib inline"
   ]
  },
  {
   "cell_type": "code",
   "execution_count": 8,
   "metadata": {},
   "outputs": [],
   "source": [
    "# importing our dataset\n",
    "dataset = pd.read_excel('C:/HTSCORETIMES2.xlsx' , 'Sheet1')"
   ]
  },
  {
   "cell_type": "code",
   "execution_count": 9,
   "metadata": {
    "collapsed": true
   },
   "outputs": [],
   "source": [
    "# Dropping duplicates\n",
    "dataset = dataset.drop_duplicates()"
   ]
  },
  {
   "cell_type": "code",
   "execution_count": 10,
   "metadata": {},
   "outputs": [
    {
     "data": {
      "text/html": [
       "<div>\n",
       "<style scoped>\n",
       "    .dataframe tbody tr th:only-of-type {\n",
       "        vertical-align: middle;\n",
       "    }\n",
       "\n",
       "    .dataframe tbody tr th {\n",
       "        vertical-align: top;\n",
       "    }\n",
       "\n",
       "    .dataframe thead th {\n",
       "        text-align: right;\n",
       "    }\n",
       "</style>\n",
       "<table border=\"1\" class=\"dataframe\">\n",
       "  <thead>\n",
       "    <tr style=\"text-align: right;\">\n",
       "      <th></th>\n",
       "      <th>HGTOTW</th>\n",
       "      <th>H_Tot_Gen_Draw</th>\n",
       "      <th>H_Tot_Gen_Lose</th>\n",
       "      <th>H_Tot_Spe_Win</th>\n",
       "      <th>H_Tot_Spe_Draw</th>\n",
       "      <th>H_Tot_Spe_Lose</th>\n",
       "      <th>H_Tot_Gen_GF</th>\n",
       "      <th>H_Tot_Gen_GA</th>\n",
       "      <th>H_Tot_Spe_GF</th>\n",
       "      <th>H_Tot_Spe_GA</th>\n",
       "      <th>...</th>\n",
       "      <th>ov2,5gg</th>\n",
       "      <th>ov3,5gg</th>\n",
       "      <th>gen6hunders</th>\n",
       "      <th>gen6awunders</th>\n",
       "      <th>sph00p</th>\n",
       "      <th>spaw00p</th>\n",
       "      <th>gagnotta</th>\n",
       "      <th>assnogagnota</th>\n",
       "      <th>xnogagnota</th>\n",
       "      <th>diplonogagnota</th>\n",
       "    </tr>\n",
       "  </thead>\n",
       "  <tbody>\n",
       "    <tr>\n",
       "      <th>0</th>\n",
       "      <td>8</td>\n",
       "      <td>2</td>\n",
       "      <td>2</td>\n",
       "      <td>5</td>\n",
       "      <td>0</td>\n",
       "      <td>1</td>\n",
       "      <td>20</td>\n",
       "      <td>10</td>\n",
       "      <td>10</td>\n",
       "      <td>5</td>\n",
       "      <td>...</td>\n",
       "      <td>0</td>\n",
       "      <td>0</td>\n",
       "      <td>3</td>\n",
       "      <td>3</td>\n",
       "      <td>0.0</td>\n",
       "      <td>0.2</td>\n",
       "      <td>1.080346</td>\n",
       "      <td>1.9</td>\n",
       "      <td>4.1</td>\n",
       "      <td>4.6</td>\n",
       "    </tr>\n",
       "    <tr>\n",
       "      <th>1</th>\n",
       "      <td>36</td>\n",
       "      <td>13</td>\n",
       "      <td>6</td>\n",
       "      <td>23</td>\n",
       "      <td>3</td>\n",
       "      <td>1</td>\n",
       "      <td>89</td>\n",
       "      <td>38</td>\n",
       "      <td>46</td>\n",
       "      <td>7</td>\n",
       "      <td>...</td>\n",
       "      <td>0</td>\n",
       "      <td>0</td>\n",
       "      <td>1</td>\n",
       "      <td>2</td>\n",
       "      <td>0.1</td>\n",
       "      <td>0.0</td>\n",
       "      <td>1.107143</td>\n",
       "      <td>1.6</td>\n",
       "      <td>4.7</td>\n",
       "      <td>7.8</td>\n",
       "    </tr>\n",
       "    <tr>\n",
       "      <th>3</th>\n",
       "      <td>34</td>\n",
       "      <td>13</td>\n",
       "      <td>6</td>\n",
       "      <td>22</td>\n",
       "      <td>3</td>\n",
       "      <td>1</td>\n",
       "      <td>85</td>\n",
       "      <td>36</td>\n",
       "      <td>44</td>\n",
       "      <td>6</td>\n",
       "      <td>...</td>\n",
       "      <td>1</td>\n",
       "      <td>0</td>\n",
       "      <td>3</td>\n",
       "      <td>3</td>\n",
       "      <td>0.1</td>\n",
       "      <td>0.1</td>\n",
       "      <td>NaN</td>\n",
       "      <td>NaN</td>\n",
       "      <td>NaN</td>\n",
       "      <td>NaN</td>\n",
       "    </tr>\n",
       "    <tr>\n",
       "      <th>5</th>\n",
       "      <td>33</td>\n",
       "      <td>4</td>\n",
       "      <td>2</td>\n",
       "      <td>18</td>\n",
       "      <td>2</td>\n",
       "      <td>0</td>\n",
       "      <td>101</td>\n",
       "      <td>30</td>\n",
       "      <td>48</td>\n",
       "      <td>10</td>\n",
       "      <td>...</td>\n",
       "      <td>0</td>\n",
       "      <td>0</td>\n",
       "      <td>4</td>\n",
       "      <td>2</td>\n",
       "      <td>0.1</td>\n",
       "      <td>0.1</td>\n",
       "      <td>NaN</td>\n",
       "      <td>NaN</td>\n",
       "      <td>NaN</td>\n",
       "      <td>NaN</td>\n",
       "    </tr>\n",
       "    <tr>\n",
       "      <th>6</th>\n",
       "      <td>33</td>\n",
       "      <td>12</td>\n",
       "      <td>6</td>\n",
       "      <td>21</td>\n",
       "      <td>3</td>\n",
       "      <td>1</td>\n",
       "      <td>82</td>\n",
       "      <td>34</td>\n",
       "      <td>42</td>\n",
       "      <td>5</td>\n",
       "      <td>...</td>\n",
       "      <td>1</td>\n",
       "      <td>0</td>\n",
       "      <td>4</td>\n",
       "      <td>2</td>\n",
       "      <td>0.1</td>\n",
       "      <td>0.1</td>\n",
       "      <td>NaN</td>\n",
       "      <td>NaN</td>\n",
       "      <td>NaN</td>\n",
       "      <td>NaN</td>\n",
       "    </tr>\n",
       "  </tbody>\n",
       "</table>\n",
       "<p>5 rows × 354 columns</p>\n",
       "</div>"
      ],
      "text/plain": [
       "   HGTOTW   H_Tot_Gen_Draw    H_Tot_Gen_Lose    H_Tot_Spe_Win   \\\n",
       "0       8                 2                 2                5   \n",
       "1      36                13                 6               23   \n",
       "3      34                13                 6               22   \n",
       "5      33                 4                 2               18   \n",
       "6      33                12                 6               21   \n",
       "\n",
       "    H_Tot_Spe_Draw\\r\\n                         H_Tot_Spe_Lose   \\\n",
       "0                                          0                 1   \n",
       "1                                          3                 1   \n",
       "3                                          3                 1   \n",
       "5                                          2                 0   \n",
       "6                                          3                 1   \n",
       "\n",
       "    H_Tot_Gen_GF    H_Tot_Gen_GA    H_Tot_Spe_GF   \\\n",
       "0              20              10              10   \n",
       "1              89              38              46   \n",
       "3              85              36              44   \n",
       "5             101              30              48   \n",
       "6              82              34              42   \n",
       "\n",
       "    H_Tot_Spe_GA\\r\\n                             ...        ov2,5gg  ov3,5gg  \\\n",
       "0                                        5       ...              0        0   \n",
       "1                                        7       ...              0        0   \n",
       "3                                        6       ...              1        0   \n",
       "5                                       10       ...              0        0   \n",
       "6                                        5       ...              1        0   \n",
       "\n",
       "   gen6hunders  gen6awunders  sph00p  spaw00p  gagnotta  assnogagnota  \\\n",
       "0            3             3     0.0      0.2  1.080346           1.9   \n",
       "1            1             2     0.1      0.0  1.107143           1.6   \n",
       "3            3             3     0.1      0.1       NaN           NaN   \n",
       "5            4             2     0.1      0.1       NaN           NaN   \n",
       "6            4             2     0.1      0.1       NaN           NaN   \n",
       "\n",
       "   xnogagnota  diplonogagnota  \n",
       "0         4.1             4.6  \n",
       "1         4.7             7.8  \n",
       "3         NaN             NaN  \n",
       "5         NaN             NaN  \n",
       "6         NaN             NaN  \n",
       "\n",
       "[5 rows x 354 columns]"
      ]
     },
     "execution_count": 10,
     "metadata": {},
     "output_type": "execute_result"
    }
   ],
   "source": [
    "dataset.head()"
   ]
  },
  {
   "cell_type": "code",
   "execution_count": null,
   "metadata": {
    "collapsed": true
   },
   "outputs": [],
   "source": [
    "# A lot of info gathered, but in the course of this project i will explain\n",
    "# what  I will be using"
   ]
  },
  {
   "cell_type": "code",
   "execution_count": 11,
   "metadata": {
    "collapsed": true
   },
   "outputs": [],
   "source": [
    "# I will only examine matches where the teams have played at least four games at home,\n",
    "# and respectively the away teams have also played 4 away games, hoping that this \n",
    "# will demonstrate some sort of \"behaviour\". Column 298, has the info about the sum\n",
    "# of home matches\n",
    "dataset = dataset[dataset.iloc[:,298] >4]"
   ]
  },
  {
   "cell_type": "code",
   "execution_count": 13,
   "metadata": {},
   "outputs": [
    {
     "data": {
      "text/plain": [
       "(68403, 354)"
      ]
     },
     "execution_count": 13,
     "metadata": {},
     "output_type": "execute_result"
    }
   ],
   "source": [
    "# Taking a look at what we have left\n",
    "dataset.shape"
   ]
  },
  {
   "cell_type": "code",
   "execution_count": 14,
   "metadata": {},
   "outputs": [
    {
     "data": {
      "text/plain": [
       "<matplotlib.axes._subplots.AxesSubplot at 0x229f4630>"
      ]
     },
     "execution_count": 14,
     "metadata": {},
     "output_type": "execute_result"
    },
    {
     "data": {
      "image/png": "[encoded data removed]",
      "text/plain": [
       "<matplotlib.figure.Figure at 0x337e9be0>"
      ]
     },
     "metadata": {},
     "output_type": "display_data"
    }
   ],
   "source": [
    "# My goal is to predict the possibility of a home team scoring or not. First I will \n",
    "# create the y variable. I have a column that states how many goals the home team has \n",
    "# scored('homegoals')\n",
    "dataset['homegoals'].value_counts().sort_index().plot(kind = 'bar')"
   ]
  },
  {
   "cell_type": "code",
   "execution_count": 15,
   "metadata": {},
   "outputs": [
    {
     "data": {
      "text/plain": [
       "0     15820\n",
       "1     21733\n",
       "2     16113\n",
       "3      8634\n",
       "4      3796\n",
       "5      1431\n",
       "6       549\n",
       "7       202\n",
       "8        70\n",
       "9        29\n",
       "10       12\n",
       "11        7\n",
       "12        4\n",
       "13        3\n",
       "Name: homegoals, dtype: int64"
      ]
     },
     "execution_count": 15,
     "metadata": {},
     "output_type": "execute_result"
    }
   ],
   "source": [
    "dataset['homegoals'].value_counts().sort_index()"
   ]
  },
  {
   "cell_type": "markdown",
   "metadata": {},
   "source": [
    "There are  15820 matches, in which the home team has not scored\n",
    "Below i am creating the y variable using a simple lambda function"
   ]
  },
  {
   "cell_type": "code",
   "execution_count": 16,
   "metadata": {
    "collapsed": true
   },
   "outputs": [],
   "source": [
    "dataset['home_0'] = dataset['homegoals'].apply(lambda x: 1 if x == 0 else 0)"
   ]
  },
  {
   "cell_type": "code",
   "execution_count": 17,
   "metadata": {},
   "outputs": [
    {
     "data": {
      "text/plain": [
       "0.23127640600558455"
      ]
     },
     "execution_count": 17,
     "metadata": {},
     "output_type": "execute_result"
    }
   ],
   "source": [
    "# Some descriptives about our y variable\n",
    "dataset['home_0'].mean() # 23% of our matches ended with no goal scored for the home team."
   ]
  },
  {
   "cell_type": "markdown",
   "metadata": {},
   "source": [
    "I will use all the info available from the oddsmakers, due to the fact that they\n",
    "seem to be very accurate in the long term. What i mean is that ,if they say that a particular event\n",
    "pays 3 X our money, then this number\"hides\" a probability of 1/3 on the event occcuring\n",
    "( of course we should take into consideration the \"gagnote\",\"juice\", the house fair profit, which slightly\n",
    "changes this percentage). Anyway, I have gathered the odds from a very well known betting firm xxx365,\n",
    "and I will use the odds for home win, draw , away win and also the odd for over2,5 goals, which also\n",
    "gives us some info on whether it is likely that many goals will be scored. Apart from those, i also\n",
    "choose to use something very \"rational\", the average home goals scored, when playing at home , \n",
    "and the average goals that the away team concedes, when playing away. My columns are 351,352,353,305,\n",
    "316,319.\n"
   ]
  },
  {
   "cell_type": "code",
   "execution_count": 19,
   "metadata": {},
   "outputs": [
    {
     "data": {
      "text/plain": [
       "0"
      ]
     },
     "execution_count": 19,
     "metadata": {},
     "output_type": "execute_result"
    }
   ],
   "source": [
    "# I would like to check the target variable for missing values\n",
    "dataset['home_0'].isnull().sum()\n"
   ]
  },
  {
   "cell_type": "code",
   "execution_count": 20,
   "metadata": {
    "collapsed": true
   },
   "outputs": [],
   "source": [
    "# Creation of a subset of my dataset\n",
    "sub = dataset.iloc[:, [354,351,352,353,305,316,319]]"
   ]
  },
  {
   "cell_type": "code",
   "execution_count": 22,
   "metadata": {
    "collapsed": true
   },
   "outputs": [],
   "source": [
    "# Final column names\n",
    "collist = sub.columns.tolist()"
   ]
  },
  {
   "cell_type": "code",
   "execution_count": 23,
   "metadata": {},
   "outputs": [
    {
     "name": "stdout",
     "output_type": "stream",
     "text": [
      "home_0 0\n",
      "assnogagnota 2718\n",
      "xnogagnota 2718\n",
      "diplonogagnota 2718\n",
      "oddov2,5arx 5150\n",
      "hsptotgfavg 0\n",
      "awsptotgagavg 561\n"
     ]
    }
   ],
   "source": [
    "# Checking the features for missing values \n",
    "for col in collist:\n",
    "    print(col,  sub[col].isnull().sum())"
   ]
  },
  {
   "cell_type": "code",
   "execution_count": 24,
   "metadata": {
    "collapsed": true
   },
   "outputs": [],
   "source": [
    "# Taking a look at the results,i choose to drop all lines with missing values. \n",
    "sub = sub.dropna()"
   ]
  },
  {
   "cell_type": "code",
   "execution_count": 25,
   "metadata": {
    "collapsed": true
   },
   "outputs": [],
   "source": [
    "# Finally\n",
    "y = sub.iloc[: , 0].values\n",
    "X = sub.iloc[:, 1:].values"
   ]
  },
  {
   "cell_type": "markdown",
   "metadata": {},
   "source": [
    "Next on I will follow some standard procedure steps, like imputing(while it is not necessary, I will\n",
    "nevertheless apply it), splitting the dataset into training set  and test set, and i will also apply \n",
    "scaling, because I am thinking about using an ANN, so it is absolutely necessary."
   ]
  },
  {
   "cell_type": "code",
   "execution_count": 26,
   "metadata": {
    "collapsed": true
   },
   "outputs": [],
   "source": [
    "#  TAKING CARE OF MISSING DATA\n",
    "from sklearn.preprocessing import Imputer\n",
    "imputer = Imputer(missing_values = 'NaN', strategy = 'mean', axis=0)\n",
    "imputer = imputer.fit(X)\n",
    "X = imputer.transform(X)\n",
    "\n",
    "# splitting the dataset\n",
    "from sklearn.model_selection import train_test_split\n",
    "X_train, X_test , y_train , y_test = train_test_split(X, y , test_size=0.2, stratify = y , random_state = 0)\n",
    "\n",
    "# SCALING MY DATA\n",
    "from sklearn.preprocessing import StandardScaler\n",
    "sc = StandardScaler()\n",
    "X_train = sc.fit_transform(X_train)\n",
    "X_test = sc.transform(X_test)"
   ]
  },
  {
   "cell_type": "markdown",
   "metadata": {},
   "source": [
    "# I will compare two models, an XGB Regressor and a Keras ANN. I will use two ways of comparing them.\n",
    "# The roc auc score  AND the error on their predictions on a completely new dataset. "
   ]
  },
  {
   "cell_type": "code",
   "execution_count": 27,
   "metadata": {
    "collapsed": true
   },
   "outputs": [],
   "source": [
    "# Let us begin with the XGB\n",
    "import xgboost as xgb\n",
    "from xgboost import XGBRegressor\n",
    "classifier = XGBRegressor(random_state = 42)"
   ]
  },
  {
   "cell_type": "code",
   "execution_count": 28,
   "metadata": {},
   "outputs": [
    {
     "data": {
      "text/plain": [
       "XGBRegressor(base_score=0.5, booster='gbtree', colsample_bylevel=1,\n",
       "       colsample_bytree=1, gamma=0, learning_rate=0.1, max_delta_step=0,\n",
       "       max_depth=3, min_child_weight=1, missing=None, n_estimators=100,\n",
       "       n_jobs=1, nthread=None, objective='reg:linear', random_state=42,\n",
       "       reg_alpha=0, reg_lambda=1, scale_pos_weight=1, seed=None,\n",
       "       silent=True, subsample=1)"
      ]
     },
     "execution_count": 28,
     "metadata": {},
     "output_type": "execute_result"
    }
   ],
   "source": [
    "#Fitting the Model\n",
    "classifier.fit(X_train, y_train)"
   ]
  },
  {
   "cell_type": "code",
   "execution_count": 29,
   "metadata": {
    "collapsed": true
   },
   "outputs": [],
   "source": [
    "# Predicting the result\n",
    "y_pred = classifier.predict(X_test)"
   ]
  },
  {
   "cell_type": "code",
   "execution_count": 30,
   "metadata": {},
   "outputs": [
    {
     "data": {
      "text/plain": [
       "<matplotlib.axes._subplots.AxesSubplot at 0x18ad7d30>"
      ]
     },
     "execution_count": 30,
     "metadata": {},
     "output_type": "execute_result"
    },
    {
     "data": {
      "image/png": "[encoded data removed]",
      "text/plain": [
       "<matplotlib.figure.Figure at 0xb158c18>"
      ]
     },
     "metadata": {},
     "output_type": "display_data"
    }
   ],
   "source": [
    "# I am curious about the feature importance of my variables. XGB has an attribute that will help us.\n",
    "featuresdf = sub.iloc[: , 1:]\n",
    "featimp = pd.Series(classifier.feature_importances_  ,index = featuresdf.columns )\n",
    "featimp.sort_values(ascending = False).plot(kind = 'bar')"
   ]
  },
  {
   "cell_type": "code",
   "execution_count": null,
   "metadata": {
    "collapsed": true
   },
   "outputs": [],
   "source": [
    "# The top3 are odd of homewin, avg home goals, and odd of over2,5 goals.\n",
    "# Or another way to interpret it would be that the first two outstand from \n",
    "# the others"
   ]
  },
  {
   "cell_type": "markdown",
   "metadata": {},
   "source": [
    "# I will proceed to tuning of my regressor. Tune tree-specific parameters ( max_depth, min_child_weight) for default learning rate and number of trees. and through an iteration of possible values of our parameters, I will simultaneously perform k-foldvalidation, to investigate on bias and variance of my results"
   ]
  },
  {
   "cell_type": "code",
   "execution_count": 31,
   "metadata": {
    "collapsed": true
   },
   "outputs": [],
   "source": [
    "maxdepthlist = [2,3,4,5,6,7,8]\n",
    "# the list that will contain the various average roc auc scores for each price of the max depth\n",
    "scoreslist=[]\n",
    "# list with the standard deviations of the above scores\n",
    "scoresstdlist = []"
   ]
  },
  {
   "cell_type": "code",
   "execution_count": 32,
   "metadata": {},
   "outputs": [
    {
     "name": "stdout",
     "output_type": "stream",
     "text": [
      "0.6482793710069383\n",
      "0.007023386636800789\n",
      "0.6482369727639414\n",
      "0.007380314904116048\n",
      "0.6468662128319671\n",
      "0.007239263674892898\n",
      "0.6450317353756811\n",
      "0.006994539390862938\n",
      "0.6416994327240853\n",
      "0.006745967374586462\n",
      "0.6372410418166444\n",
      "0.006195670358821847\n",
      "0.6294877865433005\n",
      "0.0044706783988772425\n"
     ]
    }
   ],
   "source": [
    "for i in maxdepthlist:\n",
    "        regressor = XGBRegressor(random_state = 42, max_depth = i)\n",
    "        regressor.fit(X_train, y_train)\n",
    "        y_pred = regressor.predict(X_test)\n",
    "        from sklearn.model_selection import cross_val_score\n",
    "        from sklearn   import metrics\n",
    "        scores = cross_val_score(estimator = regressor, X = X_train, y = y_train, cv = 10, \n",
    "                                 scoring = 'roc_auc')\n",
    "        print(scores.mean())\n",
    "        print(scores.std())\n",
    "        scoreslist.append(scores.mean())\n",
    "        scoresstdlist.append(scores.std())"
   ]
  },
  {
   "cell_type": "code",
   "execution_count": 34,
   "metadata": {},
   "outputs": [
    {
     "data": {
      "text/plain": [
       "<matplotlib.axes._subplots.AxesSubplot at 0x1609d208>"
      ]
     },
     "execution_count": 34,
     "metadata": {},
     "output_type": "execute_result"
    },
    {
     "data": {
      "image/png": "[encoded data removed]",
      "text/plain": [
       "<matplotlib.figure.Figure at 0xc498390>"
      ]
     },
     "metadata": {},
     "output_type": "display_data"
    }
   ],
   "source": [
    "# I would like to take a look graphicly at the course of the auroc\n",
    "pd.Series(scoreslist,maxdepthlist).plot()"
   ]
  },
  {
   "cell_type": "code",
   "execution_count": 35,
   "metadata": {},
   "outputs": [
    {
     "data": {
      "text/plain": [
       "<matplotlib.axes._subplots.AxesSubplot at 0xc2da898>"
      ]
     },
     "execution_count": 35,
     "metadata": {},
     "output_type": "execute_result"
    },
    {
     "data": {
      "image/png": "[encoded data removed]",
      "text/plain": [
       "<matplotlib.figure.Figure at 0xc2be4a8>"
      ]
     },
     "metadata": {},
     "output_type": "display_data"
    }
   ],
   "source": [
    "# And a look at the standard deviation respectively\n",
    "pd.Series(scoresstdlist,maxdepthlist).plot()"
   ]
  },
  {
   "cell_type": "markdown",
   "metadata": {},
   "source": [
    "# As we can see, the roc auc score , for values of max_depth =2 or 3, is quite good, because after that , it is declining. Regarding the std, it becomes smaller as max depth increases,after the value of 3, but simultaneously, the roc auc decreases, which is not good for our model. So we will keep the\n",
    "# value of 2 and see how things develop"
   ]
  },
  {
   "cell_type": "code",
   "execution_count": 36,
   "metadata": {},
   "outputs": [
    {
     "name": "stdout",
     "output_type": "stream",
     "text": [
      "0.6482777125499961\n",
      "0.007061315044723573\n",
      "0.6482414804145197\n",
      "0.006971564772327838\n",
      "0.6483632858691732\n",
      "0.007017132023574542\n",
      "0.6484455213156782\n",
      "0.007052131606611639\n",
      "0.648386397830591\n",
      "0.006995434464300557\n",
      "0.648378454476907\n",
      "0.006950075334057981\n",
      "0.6484284741747912\n",
      "0.007111802682763619\n"
     ]
    }
   ],
   "source": [
    "# Following the exact same way, we will tune the min child weight\n",
    "scoreslist=[]\n",
    "scoresstdlist = []\n",
    "minchildlist = [2,3,4,5,6,7,8]       \n",
    "for i in minchildlist:\n",
    "        regressor = XGBRegressor(random_state = 42, max_depth = 2, min_child_weight = i)\n",
    "        regressor.fit(X_train, y_train)\n",
    "        y_pred = regressor.predict(X_test)\n",
    "        from sklearn.model_selection import cross_val_score\n",
    "        from sklearn   import metrics\n",
    "        scores = cross_val_score(estimator = regressor, X = X_train, y = y_train, cv = 10, \n",
    "                                 scoring = 'roc_auc')\n",
    "        print(scores.mean())\n",
    "        print(scores.std())\n",
    "        scoreslist.append(scores.mean())\n",
    "        scoresstdlist.append(scores.std())"
   ]
  },
  {
   "cell_type": "code",
   "execution_count": 37,
   "metadata": {},
   "outputs": [
    {
     "data": {
      "text/plain": [
       "<matplotlib.axes._subplots.AxesSubplot at 0xc8295c0>"
      ]
     },
     "execution_count": 37,
     "metadata": {},
     "output_type": "execute_result"
    },
    {
     "data": {
      "image/png": "[encoded data removed]",
      "text/plain": [
       "<matplotlib.figure.Figure at 0xc82f940>"
      ]
     },
     "metadata": {},
     "output_type": "display_data"
    }
   ],
   "source": [
    "# Let us plot again        \n",
    "pd.Series(scoreslist,minchildlist).plot()"
   ]
  },
  {
   "cell_type": "code",
   "execution_count": 38,
   "metadata": {},
   "outputs": [
    {
     "data": {
      "text/plain": [
       "<matplotlib.axes._subplots.AxesSubplot at 0xc92eb70>"
      ]
     },
     "execution_count": 38,
     "metadata": {},
     "output_type": "execute_result"
    },
    {
     "data": {
      "image/png": "[encoded data removed]",
      "text/plain": [
       "<matplotlib.figure.Figure at 0xc470550>"
      ]
     },
     "metadata": {},
     "output_type": "display_data"
    }
   ],
   "source": [
    "pd.Series(scoresstdlist,minchildlist).plot()"
   ]
  },
  {
   "cell_type": "code",
   "execution_count": null,
   "metadata": {
    "collapsed": true
   },
   "outputs": [],
   "source": [
    "# A comment. We can see that the improvements are very slight. The average roc auc score\n",
    "# is between 0.64825 - 0.64845 and the std 0.00696 - 0.00712. So , I will just continue\n",
    "# with a direction towards improving the roc score, meaning that I choose the min child\n",
    "# value of 5"
   ]
  },
  {
   "cell_type": "code",
   "execution_count": 39,
   "metadata": {},
   "outputs": [
    {
     "name": "stdout",
     "output_type": "stream",
     "text": [
      "0.6484455213156782\n",
      "0.007052131606611639\n",
      "0.6484039760118658\n",
      "0.007068786214657578\n",
      "0.6483098248437946\n",
      "0.007042092685421956\n",
      "0.6482445878341229\n",
      "0.007046753723306891\n",
      "0.648212083113502\n",
      "0.007060741252048151\n"
     ]
    }
   ],
   "source": [
    "# Next, I will tune the \"gamma\" hyperparameter. I choose to use values, a little bit greater than its \n",
    "# defaultvalue of 0\n",
    "scoreslist=[]\n",
    "scoresstdlist = []\n",
    "gammalist = [0.1,0.2,0.3,0.4,0.5]       \n",
    "for i in gammalist:\n",
    "        regressor = XGBRegressor(random_state = 42, max_depth = 2, min_child_weight = 5, gamma = i)\n",
    "        regressor.fit(X_train, y_train)\n",
    "        y_pred = regressor.predict(X_test)\n",
    "        from sklearn.model_selection import cross_val_score\n",
    "        from sklearn   import metrics\n",
    "        scores = cross_val_score(estimator = regressor, X = X_train, y = y_train, cv = 10, \n",
    "                                 scoring = 'roc_auc')\n",
    "        print(scores.mean())\n",
    "        print(scores.std())\n",
    "        scoreslist.append(scores.mean())\n",
    "        scoresstdlist.append(scores.std())"
   ]
  },
  {
   "cell_type": "code",
   "execution_count": 40,
   "metadata": {},
   "outputs": [
    {
     "data": {
      "text/plain": [
       "<matplotlib.axes._subplots.AxesSubplot at 0xc6dbc18>"
      ]
     },
     "execution_count": 40,
     "metadata": {},
     "output_type": "execute_result"
    },
    {
     "data": {
      "image/png": "[encoded data removed]",
      "text/plain": [
       "<matplotlib.figure.Figure at 0xc6db438>"
      ]
     },
     "metadata": {},
     "output_type": "display_data"
    }
   ],
   "source": [
    "pd.Series(scoreslist,gammalist).plot()"
   ]
  },
  {
   "cell_type": "code",
   "execution_count": 41,
   "metadata": {},
   "outputs": [
    {
     "data": {
      "text/plain": [
       "<matplotlib.axes._subplots.AxesSubplot at 0xce25cf8>"
      ]
     },
     "execution_count": 41,
     "metadata": {},
     "output_type": "execute_result"
    },
    {
     "data": {
      "image/png": "[encoded data removed]",
      "text/plain": [
       "<matplotlib.figure.Figure at 0xc411048>"
      ]
     },
     "metadata": {},
     "output_type": "display_data"
    }
   ],
   "source": [
    "pd.Series(scoresstdlist,gammalist).plot()"
   ]
  },
  {
   "cell_type": "code",
   "execution_count": null,
   "metadata": {
    "collapsed": true
   },
   "outputs": [],
   "source": [
    "# Nothing changed towards improving the roc auc score.Lastly,two more things. We will reduce the \n",
    "# learning rate and increase the estimators. We will create the lrlist, which will contain various values\n",
    "# for the learning_rate"
   ]
  },
  {
   "cell_type": "code",
   "execution_count": 42,
   "metadata": {},
   "outputs": [
    {
     "name": "stdout",
     "output_type": "stream",
     "text": [
      "0.6385453834039061\n",
      "0.006115526520933846\n",
      "0.6445422820627469\n",
      "0.006192086362142293\n",
      "0.6480814224204585\n",
      "0.007097215412414094\n",
      "0.6484028095062635\n",
      "0.007000708548776603\n",
      "0.6485723871081215\n",
      "0.006981901150914743\n",
      "0.6484455213156782\n",
      "0.007052131606611639\n"
     ]
    }
   ],
   "source": [
    "scoreslist=[]\n",
    "scoresstdlist = []\n",
    "lrlist = [0.001,0.01,0.05,0.07,0.09,0.1]       \n",
    "for i in lrlist:\n",
    "        regressor = XGBRegressor(random_state = 42, max_depth = 2, min_child_weight = 5, \n",
    "                                 learning_rate = i)\n",
    "        regressor.fit(X_train, y_train)\n",
    "        y_pred = regressor.predict(X_test)\n",
    "        from sklearn.model_selection import cross_val_score\n",
    "        from sklearn   import metrics\n",
    "        scores = cross_val_score(estimator = regressor, X = X_train, y = y_train, cv = 10, \n",
    "                                 scoring = 'roc_auc')\n",
    "        print(scores.mean())\n",
    "        print(scores.std())\n",
    "        scoreslist.append(scores.mean())\n",
    "        scoresstdlist.append(scores.std())"
   ]
  },
  {
   "cell_type": "code",
   "execution_count": 43,
   "metadata": {},
   "outputs": [
    {
     "data": {
      "text/plain": [
       "<matplotlib.axes._subplots.AxesSubplot at 0x4fde0208>"
      ]
     },
     "execution_count": 43,
     "metadata": {},
     "output_type": "execute_result"
    },
    {
     "data": {
      "image/png": "[encoded data removed]",
      "text/plain": [
       "<matplotlib.figure.Figure at 0xcf7c748>"
      ]
     },
     "metadata": {},
     "output_type": "display_data"
    }
   ],
   "source": [
    "pd.Series(scoreslist,lrlist).plot()"
   ]
  },
  {
   "cell_type": "code",
   "execution_count": 44,
   "metadata": {},
   "outputs": [
    {
     "data": {
      "text/plain": [
       "<matplotlib.axes._subplots.AxesSubplot at 0x4fdbb2b0>"
      ]
     },
     "execution_count": 44,
     "metadata": {},
     "output_type": "execute_result"
    },
    {
     "data": {
      "image/png": "[encoded data removed]",
      "text/plain": [
       "<matplotlib.figure.Figure at 0x4fde0fd0>"
      ]
     },
     "metadata": {},
     "output_type": "display_data"
    }
   ],
   "source": [
    "pd.Series(scoresstdlist,lrlist).plot()"
   ]
  },
  {
   "cell_type": "code",
   "execution_count": 45,
   "metadata": {},
   "outputs": [
    {
     "name": "stdout",
     "output_type": "stream",
     "text": [
      "0.6480964070942694\n",
      "0.006938428820770871\n",
      "0.6486848782061293\n",
      "0.0069549371059277445\n",
      "0.647686981646164\n",
      "0.006892099507219106\n",
      "0.6464973466972476\n",
      "0.006636143682267659\n",
      "0.6412401909693928\n",
      "0.007018457730646103\n"
     ]
    }
   ],
   "source": [
    "# Judging by the graphs I will keep the 0.09 value\n",
    "# Finally, let us see what happens regarding the estimators. \n",
    "scoreslist=[]\n",
    "scoresstdlist = []\n",
    "estimatorslist = [50,150,300,500,2000]       \n",
    "for i in estimatorslist:\n",
    "        regressor = XGBRegressor(random_state = 42, max_depth = 2, min_child_weight = 5, \n",
    "                                 learning_rate = 0.09, n_estimators = i)\n",
    "        regressor.fit(X_train, y_train)\n",
    "        y_pred = regressor.predict(X_test)\n",
    "        from sklearn.model_selection import cross_val_score\n",
    "        from sklearn   import metrics\n",
    "        scores = cross_val_score(estimator = regressor, X = X_train, y = y_train, cv = 10, \n",
    "                                 scoring = 'roc_auc')\n",
    "        print(scores.mean())\n",
    "        print(scores.std())\n",
    "        scoreslist.append(scores.mean())\n",
    "        scoresstdlist.append(scores.std())"
   ]
  },
  {
   "cell_type": "code",
   "execution_count": 46,
   "metadata": {},
   "outputs": [
    {
     "data": {
      "text/plain": [
       "<matplotlib.axes._subplots.AxesSubplot at 0x229f4f98>"
      ]
     },
     "execution_count": 46,
     "metadata": {},
     "output_type": "execute_result"
    },
    {
     "data": {
      "image/png": "[encoded data removed]",
      "text/plain": [
       "<matplotlib.figure.Figure at 0x1f4fe390>"
      ]
     },
     "metadata": {},
     "output_type": "display_data"
    }
   ],
   "source": [
    "pd.Series(scoreslist,estimatorslist).plot()"
   ]
  },
  {
   "cell_type": "code",
   "execution_count": null,
   "metadata": {
    "collapsed": true
   },
   "outputs": [],
   "source": [
    "# It is straight forward that we keep 150 estimators"
   ]
  },
  {
   "cell_type": "code",
   "execution_count": 47,
   "metadata": {},
   "outputs": [
    {
     "data": {
      "text/plain": [
       "<matplotlib.axes._subplots.AxesSubplot at 0xb1c9e80>"
      ]
     },
     "execution_count": 47,
     "metadata": {},
     "output_type": "execute_result"
    },
    {
     "data": {
      "image/png": "[encoded data removed]",
      "text/plain": [
       "<matplotlib.figure.Figure at 0xc855748>"
      ]
     },
     "metadata": {},
     "output_type": "display_data"
    }
   ],
   "source": [
    "pd.Series(scoresstdlist,estimatorslist).plot()"
   ]
  },
  {
   "cell_type": "code",
   "execution_count": null,
   "metadata": {
    "collapsed": true
   },
   "outputs": [],
   "source": [
    "# Conclusion, for the XGB, I have reached a roc auc score of 0.6487 with a 0.007 std"
   ]
  },
  {
   "cell_type": "code",
   "execution_count": 48,
   "metadata": {},
   "outputs": [
    {
     "name": "stderr",
     "output_type": "stream",
     "text": [
      "C:\\Users\\tolaros\\Anaconda3\\lib\\site-packages\\h5py\\__init__.py:34: FutureWarning: Conversion of the second argument of issubdtype from `float` to `np.floating` is deprecated. In future, it will be treated as `np.float64 == np.dtype(float).type`.\n",
      "  from ._conv import register_converters as _register_converters\n",
      "Using TensorFlow backend.\n"
     ]
    }
   ],
   "source": [
    "# It is time now to train an ANN\n",
    "# Importing KERAS\n",
    "import keras\n",
    "from keras.models import Sequential\n",
    "from keras.layers import Dense"
   ]
  },
  {
   "cell_type": "code",
   "execution_count": 49,
   "metadata": {
    "collapsed": true
   },
   "outputs": [],
   "source": [
    "# Initializing the ANN\n",
    "neuron = Sequential() "
   ]
  },
  {
   "cell_type": "code",
   "execution_count": 50,
   "metadata": {
    "collapsed": true
   },
   "outputs": [],
   "source": [
    "# I have come accross this implementation of incorporating roc auc score into a\n",
    "# Keras model\n",
    "import tensorflow as tf\n",
    "from sklearn.metrics import roc_auc_score\n",
    "def auroc(y_true, y_pred):\n",
    "    return tf.py_func(roc_auc_score, (y_true, y_pred), tf.double)"
   ]
  },
  {
   "cell_type": "code",
   "execution_count": 51,
   "metadata": {
    "collapsed": true
   },
   "outputs": [],
   "source": [
    "# I will use just two hidden layers, the first will have 4 neurons and the second 3.\n",
    "neuron.add(Dense(units = 4, activation = 'relu', kernel_initializer = 'glorot_uniform' ,input_dim = 6 ))\n",
    "neuron.add(Dense(units = 3, activation = 'relu', kernel_initializer = 'glorot_uniform' ))\n",
    "# Adding the output layer\n",
    "neuron.add(Dense(units = 1, activation = 'sigmoid', kernel_initializer = 'glorot_uniform' ))\n",
    "# Compiling the ANN. optimizer = function for the best weights, with stochastic gradient descent\n",
    "# loss = loss function within stoch grad desc,using logarithmic loss \n",
    "# using binary_crossentropy for binary target variable\n",
    "# metrics: apart form the default accuracy, i will also use the aurosc, that i have just above defined\n",
    "neuron.compile(optimizer = 'adam',loss = 'binary_crossentropy', metrics = ['accuracy', auroc])"
   ]
  },
  {
   "cell_type": "code",
   "execution_count": 52,
   "metadata": {},
   "outputs": [
    {
     "name": "stdout",
     "output_type": "stream",
     "text": [
      "Epoch 1/10\n",
      "48895/48895 [==============================] - 7s 146us/step - loss: 0.5456 - acc: 0.7662 - auroc: 0.6207\n",
      "Epoch 2/10\n",
      "48895/48895 [==============================] - 4s 75us/step - loss: 0.5193 - acc: 0.7688 - auroc: 0.6383\n",
      "Epoch 3/10\n",
      "48895/48895 [==============================] - 4s 72us/step - loss: 0.5174 - acc: 0.7689 - auroc: 0.6444\n",
      "Epoch 4/10\n",
      "48895/48895 [==============================] - 4s 74us/step - loss: 0.5165 - acc: 0.7690 - auroc: 0.6473\n",
      "Epoch 5/10\n",
      "48895/48895 [==============================] - 4s 73us/step - loss: 0.5160 - acc: 0.7689 - auroc: 0.6480\n",
      "Epoch 6/10\n",
      "48895/48895 [==============================] - 4s 72us/step - loss: 0.5158 - acc: 0.7690 - auroc: 0.6505\n",
      "Epoch 7/10\n",
      "48895/48895 [==============================] - 4s 75us/step - loss: 0.5158 - acc: 0.7689 - auroc: 0.6477: 1s - loss: \n",
      "Epoch 8/10\n",
      "48895/48895 [==============================] - 4s 73us/step - loss: 0.5157 - acc: 0.7690 - auroc: 0.6498\n",
      "Epoch 9/10\n",
      "48895/48895 [==============================] - 4s 75us/step - loss: 0.5156 - acc: 0.7688 - auroc: 0.6482\n",
      "Epoch 10/10\n",
      "48895/48895 [==============================] - 4s 77us/step - loss: 0.5155 - acc: 0.7689 - auroc: 0.6496\n"
     ]
    },
    {
     "data": {
      "text/plain": [
       "<keras.callbacks.History at 0xb20cc88>"
      ]
     },
     "execution_count": 52,
     "metadata": {},
     "output_type": "execute_result"
    }
   ],
   "source": [
    "#  FITTING THE ANN TO THE TRAINING SET\n",
    "neuron.fit(X_train, y_train, batch_size = 50, epochs = 10)"
   ]
  },
  {
   "cell_type": "code",
   "execution_count": null,
   "metadata": {
    "collapsed": true
   },
   "outputs": [],
   "source": [
    "# The roc auc score is 0.651, almost identical to the 0.648 of the XGB. So what now remains, is to \n",
    "# make a comparison between the two graphs, that will demonstrate how close to reality are the \n",
    "# predictions of each model, when they are made on a \"virgin\" dataset. I have gathered matches\n",
    "# from all the weekends betwween February to April 2018. The dataset has the same format with \n",
    "# our original dataset\n"
   ]
  },
  {
   "cell_type": "code",
   "execution_count": 53,
   "metadata": {
    "collapsed": true
   },
   "outputs": [],
   "source": [
    "# importing our 'virgin' dataset and preprocessing it\n",
    "V = pd.read_excel('C:/PSKFEBEOSAPR18.xlsx')"
   ]
  },
  {
   "cell_type": "code",
   "execution_count": 54,
   "metadata": {
    "collapsed": true
   },
   "outputs": [],
   "source": [
    "V = V.drop_duplicates()"
   ]
  },
  {
   "cell_type": "code",
   "execution_count": 55,
   "metadata": {
    "collapsed": true
   },
   "outputs": [],
   "source": [
    "# creation of prediction column\n",
    "V['home0'] = V['homegoals'].apply(lambda x:1 if x == 0 else 0)"
   ]
  },
  {
   "cell_type": "code",
   "execution_count": 56,
   "metadata": {
    "collapsed": true
   },
   "outputs": [],
   "source": [
    "# Creation of vector of prediction, like X\n",
    "W = V.iloc[:, [407,408,409,305,315,318]].values"
   ]
  },
  {
   "cell_type": "code",
   "execution_count": 57,
   "metadata": {
    "collapsed": true
   },
   "outputs": [],
   "source": [
    "# scaling of our prediction vector\n",
    "W2 = sc.transform(W)"
   ]
  },
  {
   "cell_type": "code",
   "execution_count": 58,
   "metadata": {},
   "outputs": [
    {
     "data": {
      "text/plain": [
       "XGBRegressor(base_score=0.5, booster='gbtree', colsample_bylevel=1,\n",
       "       colsample_bytree=1, gamma=0, learning_rate=0.09, max_delta_step=0,\n",
       "       max_depth=2, min_child_weight=5, missing=None, n_estimators=150,\n",
       "       n_jobs=1, nthread=None, objective='reg:linear', random_state=42,\n",
       "       reg_alpha=0, reg_lambda=1, scale_pos_weight=1, seed=None,\n",
       "       silent=True, subsample=1)"
      ]
     },
     "execution_count": 58,
     "metadata": {},
     "output_type": "execute_result"
    }
   ],
   "source": [
    "# Retraining of our XGB\n",
    "classifier= XGBRegressor(random_state = 42, max_depth = 2, min_child_weight = 5, \n",
    "                                 learning_rate = 0.09, n_estimators = 150)\n",
    "classifier.fit(X_train, y_train)"
   ]
  },
  {
   "cell_type": "code",
   "execution_count": 59,
   "metadata": {
    "collapsed": true
   },
   "outputs": [],
   "source": [
    "# predicting with our XGB\n",
    "pred = classifier.predict(W2)"
   ]
  },
  {
   "cell_type": "code",
   "execution_count": 60,
   "metadata": {
    "collapsed": true
   },
   "outputs": [],
   "source": [
    "# creating a column with the predictions on V and rounding it on 2 decimals\n",
    "V['predhomegoals_0'] = pred\n",
    "V['predhomegoals_0'] = round(V['predhomegoals_0'],2)"
   ]
  },
  {
   "cell_type": "code",
   "execution_count": 61,
   "metadata": {
    "collapsed": true
   },
   "outputs": [],
   "source": [
    "# The goal now is to compare the XGB results to the \"real\" results of V\n",
    "# For instance, if XGB predicted a 30% possibility on 100 games, we would\n",
    "# expect that 30 out of those 100, will have the home team NOT TO HAVE SCORED.\n",
    "# Is this true? We wil answer this by making a pivot table with the predictions \n",
    "# and the real percentage\n",
    "xgbpiv = V.pivot_table(index = 'predhomegoals_0', values ='home0')"
   ]
  },
  {
   "cell_type": "code",
   "execution_count": 63,
   "metadata": {},
   "outputs": [],
   "source": [
    "xgbpiv['predhomegoals_0'] = xgbpiv.index\n",
    "# creating a count column\n",
    "xgbpiv['count'] = V['predhomegoals_0'].value_counts().sort_index()\n",
    "# making a 'deviation' column in the pivot table\n",
    "xgbpiv['deviation'] = round((xgbpiv['home0'] - xgbpiv['predhomegoals_0']),2)\n",
    "xgbpiv['absdeviation' ] = abs(xgbpiv['deviation'] )"
   ]
  },
  {
   "cell_type": "code",
   "execution_count": 64,
   "metadata": {},
   "outputs": [
    {
     "data": {
      "text/html": [
       "<div>\n",
       "<style scoped>\n",
       "    .dataframe tbody tr th:only-of-type {\n",
       "        vertical-align: middle;\n",
       "    }\n",
       "\n",
       "    .dataframe tbody tr th {\n",
       "        vertical-align: top;\n",
       "    }\n",
       "\n",
       "    .dataframe thead th {\n",
       "        text-align: right;\n",
       "    }\n",
       "</style>\n",
       "<table border=\"1\" class=\"dataframe\">\n",
       "  <thead>\n",
       "    <tr style=\"text-align: right;\">\n",
       "      <th></th>\n",
       "      <th>home0</th>\n",
       "      <th>predhomegoals_0</th>\n",
       "      <th>count</th>\n",
       "      <th>deviation</th>\n",
       "      <th>absdeviation</th>\n",
       "    </tr>\n",
       "    <tr>\n",
       "      <th>predhomegoals_0</th>\n",
       "      <th></th>\n",
       "      <th></th>\n",
       "      <th></th>\n",
       "      <th></th>\n",
       "      <th></th>\n",
       "    </tr>\n",
       "  </thead>\n",
       "  <tbody>\n",
       "    <tr>\n",
       "      <th>0.02</th>\n",
       "      <td>0.000000</td>\n",
       "      <td>0.02</td>\n",
       "      <td>8</td>\n",
       "      <td>-0.02</td>\n",
       "      <td>0.02</td>\n",
       "    </tr>\n",
       "    <tr>\n",
       "      <th>0.03</th>\n",
       "      <td>0.125000</td>\n",
       "      <td>0.03</td>\n",
       "      <td>16</td>\n",
       "      <td>0.10</td>\n",
       "      <td>0.10</td>\n",
       "    </tr>\n",
       "    <tr>\n",
       "      <th>0.04</th>\n",
       "      <td>0.086957</td>\n",
       "      <td>0.04</td>\n",
       "      <td>23</td>\n",
       "      <td>0.05</td>\n",
       "      <td>0.05</td>\n",
       "    </tr>\n",
       "    <tr>\n",
       "      <th>0.05</th>\n",
       "      <td>0.083333</td>\n",
       "      <td>0.05</td>\n",
       "      <td>48</td>\n",
       "      <td>0.03</td>\n",
       "      <td>0.03</td>\n",
       "    </tr>\n",
       "    <tr>\n",
       "      <th>0.06</th>\n",
       "      <td>0.081633</td>\n",
       "      <td>0.06</td>\n",
       "      <td>49</td>\n",
       "      <td>0.02</td>\n",
       "      <td>0.02</td>\n",
       "    </tr>\n",
       "    <tr>\n",
       "      <th>0.07</th>\n",
       "      <td>0.064935</td>\n",
       "      <td>0.07</td>\n",
       "      <td>77</td>\n",
       "      <td>-0.01</td>\n",
       "      <td>0.01</td>\n",
       "    </tr>\n",
       "    <tr>\n",
       "      <th>0.08</th>\n",
       "      <td>0.053571</td>\n",
       "      <td>0.08</td>\n",
       "      <td>56</td>\n",
       "      <td>-0.03</td>\n",
       "      <td>0.03</td>\n",
       "    </tr>\n",
       "    <tr>\n",
       "      <th>0.09</th>\n",
       "      <td>0.060606</td>\n",
       "      <td>0.09</td>\n",
       "      <td>66</td>\n",
       "      <td>-0.03</td>\n",
       "      <td>0.03</td>\n",
       "    </tr>\n",
       "    <tr>\n",
       "      <th>0.10</th>\n",
       "      <td>0.120690</td>\n",
       "      <td>0.10</td>\n",
       "      <td>58</td>\n",
       "      <td>0.02</td>\n",
       "      <td>0.02</td>\n",
       "    </tr>\n",
       "    <tr>\n",
       "      <th>0.11</th>\n",
       "      <td>0.135135</td>\n",
       "      <td>0.11</td>\n",
       "      <td>74</td>\n",
       "      <td>0.03</td>\n",
       "      <td>0.03</td>\n",
       "    </tr>\n",
       "    <tr>\n",
       "      <th>0.12</th>\n",
       "      <td>0.089109</td>\n",
       "      <td>0.12</td>\n",
       "      <td>101</td>\n",
       "      <td>-0.03</td>\n",
       "      <td>0.03</td>\n",
       "    </tr>\n",
       "    <tr>\n",
       "      <th>0.13</th>\n",
       "      <td>0.107692</td>\n",
       "      <td>0.13</td>\n",
       "      <td>130</td>\n",
       "      <td>-0.02</td>\n",
       "      <td>0.02</td>\n",
       "    </tr>\n",
       "    <tr>\n",
       "      <th>0.14</th>\n",
       "      <td>0.152174</td>\n",
       "      <td>0.14</td>\n",
       "      <td>138</td>\n",
       "      <td>0.01</td>\n",
       "      <td>0.01</td>\n",
       "    </tr>\n",
       "    <tr>\n",
       "      <th>0.15</th>\n",
       "      <td>0.111111</td>\n",
       "      <td>0.15</td>\n",
       "      <td>135</td>\n",
       "      <td>-0.04</td>\n",
       "      <td>0.04</td>\n",
       "    </tr>\n",
       "    <tr>\n",
       "      <th>0.16</th>\n",
       "      <td>0.223022</td>\n",
       "      <td>0.16</td>\n",
       "      <td>139</td>\n",
       "      <td>0.06</td>\n",
       "      <td>0.06</td>\n",
       "    </tr>\n",
       "    <tr>\n",
       "      <th>0.17</th>\n",
       "      <td>0.171053</td>\n",
       "      <td>0.17</td>\n",
       "      <td>152</td>\n",
       "      <td>0.00</td>\n",
       "      <td>0.00</td>\n",
       "    </tr>\n",
       "    <tr>\n",
       "      <th>0.18</th>\n",
       "      <td>0.127517</td>\n",
       "      <td>0.18</td>\n",
       "      <td>149</td>\n",
       "      <td>-0.05</td>\n",
       "      <td>0.05</td>\n",
       "    </tr>\n",
       "    <tr>\n",
       "      <th>0.19</th>\n",
       "      <td>0.197183</td>\n",
       "      <td>0.19</td>\n",
       "      <td>142</td>\n",
       "      <td>0.01</td>\n",
       "      <td>0.01</td>\n",
       "    </tr>\n",
       "    <tr>\n",
       "      <th>0.20</th>\n",
       "      <td>0.215247</td>\n",
       "      <td>0.20</td>\n",
       "      <td>223</td>\n",
       "      <td>0.02</td>\n",
       "      <td>0.02</td>\n",
       "    </tr>\n",
       "    <tr>\n",
       "      <th>0.21</th>\n",
       "      <td>0.188119</td>\n",
       "      <td>0.21</td>\n",
       "      <td>202</td>\n",
       "      <td>-0.02</td>\n",
       "      <td>0.02</td>\n",
       "    </tr>\n",
       "    <tr>\n",
       "      <th>0.22</th>\n",
       "      <td>0.218845</td>\n",
       "      <td>0.22</td>\n",
       "      <td>329</td>\n",
       "      <td>-0.00</td>\n",
       "      <td>0.00</td>\n",
       "    </tr>\n",
       "    <tr>\n",
       "      <th>0.23</th>\n",
       "      <td>0.286957</td>\n",
       "      <td>0.23</td>\n",
       "      <td>230</td>\n",
       "      <td>0.06</td>\n",
       "      <td>0.06</td>\n",
       "    </tr>\n",
       "    <tr>\n",
       "      <th>0.24</th>\n",
       "      <td>0.237069</td>\n",
       "      <td>0.24</td>\n",
       "      <td>232</td>\n",
       "      <td>-0.00</td>\n",
       "      <td>0.00</td>\n",
       "    </tr>\n",
       "    <tr>\n",
       "      <th>0.25</th>\n",
       "      <td>0.250000</td>\n",
       "      <td>0.25</td>\n",
       "      <td>204</td>\n",
       "      <td>0.00</td>\n",
       "      <td>0.00</td>\n",
       "    </tr>\n",
       "    <tr>\n",
       "      <th>0.26</th>\n",
       "      <td>0.252809</td>\n",
       "      <td>0.26</td>\n",
       "      <td>178</td>\n",
       "      <td>-0.01</td>\n",
       "      <td>0.01</td>\n",
       "    </tr>\n",
       "    <tr>\n",
       "      <th>0.27</th>\n",
       "      <td>0.293814</td>\n",
       "      <td>0.27</td>\n",
       "      <td>194</td>\n",
       "      <td>0.02</td>\n",
       "      <td>0.02</td>\n",
       "    </tr>\n",
       "    <tr>\n",
       "      <th>0.28</th>\n",
       "      <td>0.244898</td>\n",
       "      <td>0.28</td>\n",
       "      <td>196</td>\n",
       "      <td>-0.04</td>\n",
       "      <td>0.04</td>\n",
       "    </tr>\n",
       "    <tr>\n",
       "      <th>0.29</th>\n",
       "      <td>0.353591</td>\n",
       "      <td>0.29</td>\n",
       "      <td>181</td>\n",
       "      <td>0.06</td>\n",
       "      <td>0.06</td>\n",
       "    </tr>\n",
       "    <tr>\n",
       "      <th>0.30</th>\n",
       "      <td>0.273810</td>\n",
       "      <td>0.30</td>\n",
       "      <td>168</td>\n",
       "      <td>-0.03</td>\n",
       "      <td>0.03</td>\n",
       "    </tr>\n",
       "    <tr>\n",
       "      <th>0.31</th>\n",
       "      <td>0.294574</td>\n",
       "      <td>0.31</td>\n",
       "      <td>129</td>\n",
       "      <td>-0.02</td>\n",
       "      <td>0.02</td>\n",
       "    </tr>\n",
       "    <tr>\n",
       "      <th>...</th>\n",
       "      <td>...</td>\n",
       "      <td>...</td>\n",
       "      <td>...</td>\n",
       "      <td>...</td>\n",
       "      <td>...</td>\n",
       "    </tr>\n",
       "    <tr>\n",
       "      <th>0.40</th>\n",
       "      <td>0.375000</td>\n",
       "      <td>0.40</td>\n",
       "      <td>32</td>\n",
       "      <td>-0.03</td>\n",
       "      <td>0.03</td>\n",
       "    </tr>\n",
       "    <tr>\n",
       "      <th>0.41</th>\n",
       "      <td>0.500000</td>\n",
       "      <td>0.41</td>\n",
       "      <td>26</td>\n",
       "      <td>0.09</td>\n",
       "      <td>0.09</td>\n",
       "    </tr>\n",
       "    <tr>\n",
       "      <th>0.42</th>\n",
       "      <td>0.454545</td>\n",
       "      <td>0.42</td>\n",
       "      <td>33</td>\n",
       "      <td>0.03</td>\n",
       "      <td>0.03</td>\n",
       "    </tr>\n",
       "    <tr>\n",
       "      <th>0.43</th>\n",
       "      <td>0.393939</td>\n",
       "      <td>0.43</td>\n",
       "      <td>33</td>\n",
       "      <td>-0.04</td>\n",
       "      <td>0.04</td>\n",
       "    </tr>\n",
       "    <tr>\n",
       "      <th>0.44</th>\n",
       "      <td>0.636364</td>\n",
       "      <td>0.44</td>\n",
       "      <td>22</td>\n",
       "      <td>0.20</td>\n",
       "      <td>0.20</td>\n",
       "    </tr>\n",
       "    <tr>\n",
       "      <th>0.45</th>\n",
       "      <td>0.400000</td>\n",
       "      <td>0.45</td>\n",
       "      <td>15</td>\n",
       "      <td>-0.05</td>\n",
       "      <td>0.05</td>\n",
       "    </tr>\n",
       "    <tr>\n",
       "      <th>0.46</th>\n",
       "      <td>0.400000</td>\n",
       "      <td>0.46</td>\n",
       "      <td>10</td>\n",
       "      <td>-0.06</td>\n",
       "      <td>0.06</td>\n",
       "    </tr>\n",
       "    <tr>\n",
       "      <th>0.47</th>\n",
       "      <td>0.470588</td>\n",
       "      <td>0.47</td>\n",
       "      <td>17</td>\n",
       "      <td>0.00</td>\n",
       "      <td>0.00</td>\n",
       "    </tr>\n",
       "    <tr>\n",
       "      <th>0.48</th>\n",
       "      <td>0.466667</td>\n",
       "      <td>0.48</td>\n",
       "      <td>15</td>\n",
       "      <td>-0.01</td>\n",
       "      <td>0.01</td>\n",
       "    </tr>\n",
       "    <tr>\n",
       "      <th>0.49</th>\n",
       "      <td>0.454545</td>\n",
       "      <td>0.49</td>\n",
       "      <td>11</td>\n",
       "      <td>-0.04</td>\n",
       "      <td>0.04</td>\n",
       "    </tr>\n",
       "    <tr>\n",
       "      <th>0.50</th>\n",
       "      <td>0.545455</td>\n",
       "      <td>0.50</td>\n",
       "      <td>11</td>\n",
       "      <td>0.05</td>\n",
       "      <td>0.05</td>\n",
       "    </tr>\n",
       "    <tr>\n",
       "      <th>0.51</th>\n",
       "      <td>0.500000</td>\n",
       "      <td>0.51</td>\n",
       "      <td>8</td>\n",
       "      <td>-0.01</td>\n",
       "      <td>0.01</td>\n",
       "    </tr>\n",
       "    <tr>\n",
       "      <th>0.52</th>\n",
       "      <td>0.571429</td>\n",
       "      <td>0.52</td>\n",
       "      <td>7</td>\n",
       "      <td>0.05</td>\n",
       "      <td>0.05</td>\n",
       "    </tr>\n",
       "    <tr>\n",
       "      <th>0.53</th>\n",
       "      <td>1.000000</td>\n",
       "      <td>0.53</td>\n",
       "      <td>2</td>\n",
       "      <td>0.47</td>\n",
       "      <td>0.47</td>\n",
       "    </tr>\n",
       "    <tr>\n",
       "      <th>0.54</th>\n",
       "      <td>0.750000</td>\n",
       "      <td>0.54</td>\n",
       "      <td>8</td>\n",
       "      <td>0.21</td>\n",
       "      <td>0.21</td>\n",
       "    </tr>\n",
       "    <tr>\n",
       "      <th>0.55</th>\n",
       "      <td>0.333333</td>\n",
       "      <td>0.55</td>\n",
       "      <td>3</td>\n",
       "      <td>-0.22</td>\n",
       "      <td>0.22</td>\n",
       "    </tr>\n",
       "    <tr>\n",
       "      <th>0.56</th>\n",
       "      <td>0.666667</td>\n",
       "      <td>0.56</td>\n",
       "      <td>6</td>\n",
       "      <td>0.11</td>\n",
       "      <td>0.11</td>\n",
       "    </tr>\n",
       "    <tr>\n",
       "      <th>0.57</th>\n",
       "      <td>1.000000</td>\n",
       "      <td>0.57</td>\n",
       "      <td>2</td>\n",
       "      <td>0.43</td>\n",
       "      <td>0.43</td>\n",
       "    </tr>\n",
       "    <tr>\n",
       "      <th>0.58</th>\n",
       "      <td>1.000000</td>\n",
       "      <td>0.58</td>\n",
       "      <td>2</td>\n",
       "      <td>0.42</td>\n",
       "      <td>0.42</td>\n",
       "    </tr>\n",
       "    <tr>\n",
       "      <th>0.59</th>\n",
       "      <td>1.000000</td>\n",
       "      <td>0.59</td>\n",
       "      <td>1</td>\n",
       "      <td>0.41</td>\n",
       "      <td>0.41</td>\n",
       "    </tr>\n",
       "    <tr>\n",
       "      <th>0.60</th>\n",
       "      <td>1.000000</td>\n",
       "      <td>0.60</td>\n",
       "      <td>4</td>\n",
       "      <td>0.40</td>\n",
       "      <td>0.40</td>\n",
       "    </tr>\n",
       "    <tr>\n",
       "      <th>0.61</th>\n",
       "      <td>1.000000</td>\n",
       "      <td>0.61</td>\n",
       "      <td>1</td>\n",
       "      <td>0.39</td>\n",
       "      <td>0.39</td>\n",
       "    </tr>\n",
       "    <tr>\n",
       "      <th>0.62</th>\n",
       "      <td>0.500000</td>\n",
       "      <td>0.62</td>\n",
       "      <td>2</td>\n",
       "      <td>-0.12</td>\n",
       "      <td>0.12</td>\n",
       "    </tr>\n",
       "    <tr>\n",
       "      <th>0.63</th>\n",
       "      <td>0.500000</td>\n",
       "      <td>0.63</td>\n",
       "      <td>2</td>\n",
       "      <td>-0.13</td>\n",
       "      <td>0.13</td>\n",
       "    </tr>\n",
       "    <tr>\n",
       "      <th>0.64</th>\n",
       "      <td>1.000000</td>\n",
       "      <td>0.64</td>\n",
       "      <td>1</td>\n",
       "      <td>0.36</td>\n",
       "      <td>0.36</td>\n",
       "    </tr>\n",
       "    <tr>\n",
       "      <th>0.65</th>\n",
       "      <td>1.000000</td>\n",
       "      <td>0.65</td>\n",
       "      <td>2</td>\n",
       "      <td>0.35</td>\n",
       "      <td>0.35</td>\n",
       "    </tr>\n",
       "    <tr>\n",
       "      <th>0.66</th>\n",
       "      <td>1.000000</td>\n",
       "      <td>0.66</td>\n",
       "      <td>1</td>\n",
       "      <td>0.34</td>\n",
       "      <td>0.34</td>\n",
       "    </tr>\n",
       "    <tr>\n",
       "      <th>0.68</th>\n",
       "      <td>0.000000</td>\n",
       "      <td>0.68</td>\n",
       "      <td>1</td>\n",
       "      <td>-0.68</td>\n",
       "      <td>0.68</td>\n",
       "    </tr>\n",
       "    <tr>\n",
       "      <th>0.69</th>\n",
       "      <td>1.000000</td>\n",
       "      <td>0.69</td>\n",
       "      <td>2</td>\n",
       "      <td>0.31</td>\n",
       "      <td>0.31</td>\n",
       "    </tr>\n",
       "    <tr>\n",
       "      <th>0.82</th>\n",
       "      <td>0.000000</td>\n",
       "      <td>0.82</td>\n",
       "      <td>1</td>\n",
       "      <td>-0.82</td>\n",
       "      <td>0.82</td>\n",
       "    </tr>\n",
       "  </tbody>\n",
       "</table>\n",
       "<p>68 rows × 5 columns</p>\n",
       "</div>"
      ],
      "text/plain": [
       "                    home0  predhomegoals_0  count  deviation  absdeviation\n",
       "predhomegoals_0                                                           \n",
       "0.02             0.000000             0.02      8      -0.02          0.02\n",
       "0.03             0.125000             0.03     16       0.10          0.10\n",
       "0.04             0.086957             0.04     23       0.05          0.05\n",
       "0.05             0.083333             0.05     48       0.03          0.03\n",
       "0.06             0.081633             0.06     49       0.02          0.02\n",
       "0.07             0.064935             0.07     77      -0.01          0.01\n",
       "0.08             0.053571             0.08     56      -0.03          0.03\n",
       "0.09             0.060606             0.09     66      -0.03          0.03\n",
       "0.10             0.120690             0.10     58       0.02          0.02\n",
       "0.11             0.135135             0.11     74       0.03          0.03\n",
       "0.12             0.089109             0.12    101      -0.03          0.03\n",
       "0.13             0.107692             0.13    130      -0.02          0.02\n",
       "0.14             0.152174             0.14    138       0.01          0.01\n",
       "0.15             0.111111             0.15    135      -0.04          0.04\n",
       "0.16             0.223022             0.16    139       0.06          0.06\n",
       "0.17             0.171053             0.17    152       0.00          0.00\n",
       "0.18             0.127517             0.18    149      -0.05          0.05\n",
       "0.19             0.197183             0.19    142       0.01          0.01\n",
       "0.20             0.215247             0.20    223       0.02          0.02\n",
       "0.21             0.188119             0.21    202      -0.02          0.02\n",
       "0.22             0.218845             0.22    329      -0.00          0.00\n",
       "0.23             0.286957             0.23    230       0.06          0.06\n",
       "0.24             0.237069             0.24    232      -0.00          0.00\n",
       "0.25             0.250000             0.25    204       0.00          0.00\n",
       "0.26             0.252809             0.26    178      -0.01          0.01\n",
       "0.27             0.293814             0.27    194       0.02          0.02\n",
       "0.28             0.244898             0.28    196      -0.04          0.04\n",
       "0.29             0.353591             0.29    181       0.06          0.06\n",
       "0.30             0.273810             0.30    168      -0.03          0.03\n",
       "0.31             0.294574             0.31    129      -0.02          0.02\n",
       "...                   ...              ...    ...        ...           ...\n",
       "0.40             0.375000             0.40     32      -0.03          0.03\n",
       "0.41             0.500000             0.41     26       0.09          0.09\n",
       "0.42             0.454545             0.42     33       0.03          0.03\n",
       "0.43             0.393939             0.43     33      -0.04          0.04\n",
       "0.44             0.636364             0.44     22       0.20          0.20\n",
       "0.45             0.400000             0.45     15      -0.05          0.05\n",
       "0.46             0.400000             0.46     10      -0.06          0.06\n",
       "0.47             0.470588             0.47     17       0.00          0.00\n",
       "0.48             0.466667             0.48     15      -0.01          0.01\n",
       "0.49             0.454545             0.49     11      -0.04          0.04\n",
       "0.50             0.545455             0.50     11       0.05          0.05\n",
       "0.51             0.500000             0.51      8      -0.01          0.01\n",
       "0.52             0.571429             0.52      7       0.05          0.05\n",
       "0.53             1.000000             0.53      2       0.47          0.47\n",
       "0.54             0.750000             0.54      8       0.21          0.21\n",
       "0.55             0.333333             0.55      3      -0.22          0.22\n",
       "0.56             0.666667             0.56      6       0.11          0.11\n",
       "0.57             1.000000             0.57      2       0.43          0.43\n",
       "0.58             1.000000             0.58      2       0.42          0.42\n",
       "0.59             1.000000             0.59      1       0.41          0.41\n",
       "0.60             1.000000             0.60      4       0.40          0.40\n",
       "0.61             1.000000             0.61      1       0.39          0.39\n",
       "0.62             0.500000             0.62      2      -0.12          0.12\n",
       "0.63             0.500000             0.63      2      -0.13          0.13\n",
       "0.64             1.000000             0.64      1       0.36          0.36\n",
       "0.65             1.000000             0.65      2       0.35          0.35\n",
       "0.66             1.000000             0.66      1       0.34          0.34\n",
       "0.68             0.000000             0.68      1      -0.68          0.68\n",
       "0.69             1.000000             0.69      2       0.31          0.31\n",
       "0.82             0.000000             0.82      1      -0.82          0.82\n",
       "\n",
       "[68 rows x 5 columns]"
      ]
     },
     "execution_count": 64,
     "metadata": {},
     "output_type": "execute_result"
    }
   ],
   "source": [
    "xgbpiv"
   ]
  },
  {
   "cell_type": "code",
   "execution_count": 65,
   "metadata": {},
   "outputs": [
    {
     "data": {
      "text/plain": [
       "<matplotlib.lines.Line2D at 0xbce9860>"
      ]
     },
     "execution_count": 65,
     "metadata": {},
     "output_type": "execute_result"
    },
    {
     "data": {
      "image/png": "[encoded data removed]",
      "text/plain": [
       "<matplotlib.figure.Figure at 0xbdc3470>"
      ]
     },
     "metadata": {},
     "output_type": "display_data"
    }
   ],
   "source": [
    "# Creating a plot with a red line, to depict the deviation from the \"real\" percentage\n",
    "xgbpiv.plot.scatter('predhomegoals_0' , 'deviation')\n",
    "plt.axhline(0, c = 'red')"
   ]
  },
  {
   "cell_type": "code",
   "execution_count": 66,
   "metadata": {},
   "outputs": [
    {
     "data": {
      "text/plain": [
       "<matplotlib.lines.Line2D at 0xbce9b00>"
      ]
     },
     "execution_count": 66,
     "metadata": {},
     "output_type": "execute_result"
    },
    {
     "data": {
      "image/png": "[encoded data removed]",
      "text/plain": [
       "<matplotlib.figure.Figure at 0x155a6dd8>"
      ]
     },
     "metadata": {},
     "output_type": "display_data"
    }
   ],
   "source": [
    "# acting the same way with the neuron\n",
    "pred2 = neuron.predict(W2)\n",
    "V['predhomegoals_0ANN'] = pred2\n",
    "V['predhomegoals_0ANN'] = round(V['predhomegoals_0ANN'],2)\n",
    "\n",
    "pinakasANN = V.pivot_table(index = 'predhomegoals_0ANN', values ='home0')\n",
    "pinakasANN['predhomegoals_0ANN'] = pinakasANN.index\n",
    "\n",
    "pinakasANN['count'] = V['predhomegoals_0ANN'].value_counts().sort_index()\n",
    "pinakasANN['deviation'] = round((pinakasANN['home0'] - pinakasANN['predhomegoals_0ANN']),2)\n",
    "pinakasANN['absdeviation' ] = abs(pinakasANN['deviation'] )\n",
    "\n",
    "pinakasANN.plot.scatter('predhomegoals_0ANN' , 'deviation')\n",
    "plt.axhline(0, c = 'red')"
   ]
  },
  {
   "cell_type": "code",
   "execution_count": 69,
   "metadata": {},
   "outputs": [
    {
     "data": {
      "text/plain": [
       "<matplotlib.lines.Line2D at 0x12b4aeb8>"
      ]
     },
     "execution_count": 69,
     "metadata": {},
     "output_type": "execute_result"
    },
    {
     "data": {
      "image/png": "[encoded data removed]",
      "text/plain": [
       "<matplotlib.figure.Figure at 0x44835358>"
      ]
     },
     "metadata": {},
     "output_type": "display_data"
    },
    {
     "data": {
      "image/png": "[encoded data removed]",
      "text/plain": [
       "<matplotlib.figure.Figure at 0x124ee6a0>"
      ]
     },
     "metadata": {},
     "output_type": "display_data"
    }
   ],
   "source": [
    "pinakasANN.plot.scatter('predhomegoals_0ANN' , 'deviation' , c = 'green')\n",
    "plt.axhline(0, c = 'red')\n",
    "xgbpiv.plot.scatter('predhomegoals_0' , 'deviation')\n",
    "plt.axhline(0, c = 'red')"
   ]
  },
  {
   "cell_type": "markdown",
   "metadata": {},
   "source": [
    "Some comments:\n",
    "The ANN graph seems to  be a little bit closer to the red line, which is the ideal(deviation = 0)\n",
    "We could also state that both models do not have such a good behaviour, when their predictions\n",
    "start to exceed 40%. I would alike to check the mean absolute deviation for both models and their\n",
    "std, by removing outliers, meaning that I will remove all instances from the pivot table, that occur\n",
    "less than 30 times"
   ]
  },
  {
   "cell_type": "code",
   "execution_count": 70,
   "metadata": {},
   "outputs": [
    {
     "name": "stdout",
     "output_type": "stream",
     "text": [
      "0.033157894736842115\n",
      "0.028861764022233755\n"
     ]
    }
   ],
   "source": [
    "xgbpiv2 = xgbpiv[xgbpiv['count'] >= 30]\n",
    "print(xgbpiv2['absdeviation'].mean())\n",
    "print(xgbpiv2['absdeviation'].std())\n",
    "\n",
    "\n"
   ]
  },
  {
   "cell_type": "code",
   "execution_count": 71,
   "metadata": {},
   "outputs": [
    {
     "name": "stdout",
     "output_type": "stream",
     "text": [
      "0.02900000000000001\n",
      "0.02771651363727278\n"
     ]
    }
   ],
   "source": [
    "pinakasANN = pinakasANN[pinakasANN['count'] >= 30]\n",
    "print(pinakasANN['absdeviation'].mean())\n",
    "print(pinakasANN['absdeviation'].std())"
   ]
  },
  {
   "cell_type": "markdown",
   "metadata": {},
   "source": [
    "Turns out that the ANN performs a little bit better. "
   ]
  }
 ],
 "metadata": {
  "kernelspec": {
   "display_name": "Python 3",
   "language": "python",
   "name": "python3"
  },
  "language_info": {
   "codemirror_mode": {
    "name": "ipython",
    "version": 3
   },
   "file_extension": ".py",
   "mimetype": "text/x-python",
   "name": "python",
   "nbconvert_exporter": "python",
   "pygments_lexer": "ipython3",
   "version": "3.6.3"
  }
 },
 "nbformat": 4,
 "nbformat_minor": 2
}
